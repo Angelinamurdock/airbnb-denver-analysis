{
 "cells": [
  {
   "cell_type": "code",
   "execution_count": 132,
   "id": "f89f0c16",
   "metadata": {},
   "outputs": [],
   "source": [
    "import numpy as np\n",
    "import pandas as pd\n",
    "\n",
    "import dask.dataframe as dd\n",
    "import dask.array as da\n",
    "import dask.bag as db\n",
    "\n",
    "import json"
   ]
  },
  {
   "cell_type": "code",
   "execution_count": 133,
   "id": "63e44fa8",
   "metadata": {},
   "outputs": [],
   "source": [
    "# Use dask to read in the csv file as a dataframe\n",
    "listings_df = dd.read_csv(\"Resources/listings.csv\", assume_missing = True)"
   ]
  },
  {
   "cell_type": "code",
   "execution_count": 134,
   "id": "f0fd7179",
   "metadata": {},
   "outputs": [
    {
     "data": {
      "text/html": [
       "<div>\n",
       "<style scoped>\n",
       "    .dataframe tbody tr th:only-of-type {\n",
       "        vertical-align: middle;\n",
       "    }\n",
       "\n",
       "    .dataframe tbody tr th {\n",
       "        vertical-align: top;\n",
       "    }\n",
       "\n",
       "    .dataframe thead th {\n",
       "        text-align: right;\n",
       "    }\n",
       "</style>\n",
       "<table border=\"1\" class=\"dataframe\">\n",
       "  <thead>\n",
       "    <tr style=\"text-align: right;\">\n",
       "      <th></th>\n",
       "      <th>id</th>\n",
       "      <th>neighbourhood</th>\n",
       "      <th>latitude</th>\n",
       "      <th>longitude</th>\n",
       "      <th>room_type</th>\n",
       "      <th>price</th>\n",
       "      <th>availability_365</th>\n",
       "      <th>calculated_host_listings_count</th>\n",
       "    </tr>\n",
       "  </thead>\n",
       "  <tbody>\n",
       "    <tr>\n",
       "      <th>0</th>\n",
       "      <td>360.0</td>\n",
       "      <td>Highland</td>\n",
       "      <td>39.766415</td>\n",
       "      <td>-105.002098</td>\n",
       "      <td>Entire home/apt</td>\n",
       "      <td>91.0</td>\n",
       "      <td>179.0</td>\n",
       "      <td>2.0</td>\n",
       "    </tr>\n",
       "    <tr>\n",
       "      <th>1</th>\n",
       "      <td>364.0</td>\n",
       "      <td>Five Points</td>\n",
       "      <td>39.766720</td>\n",
       "      <td>-104.979060</td>\n",
       "      <td>Entire home/apt</td>\n",
       "      <td>179.0</td>\n",
       "      <td>358.0</td>\n",
       "      <td>1.0</td>\n",
       "    </tr>\n",
       "    <tr>\n",
       "      <th>2</th>\n",
       "      <td>590.0</td>\n",
       "      <td>North Park Hill</td>\n",
       "      <td>39.755110</td>\n",
       "      <td>-104.911090</td>\n",
       "      <td>Private room</td>\n",
       "      <td>59.0</td>\n",
       "      <td>146.0</td>\n",
       "      <td>2.0</td>\n",
       "    </tr>\n",
       "    <tr>\n",
       "      <th>3</th>\n",
       "      <td>592.0</td>\n",
       "      <td>North Park Hill</td>\n",
       "      <td>39.754810</td>\n",
       "      <td>-104.911060</td>\n",
       "      <td>Private room</td>\n",
       "      <td>58.0</td>\n",
       "      <td>210.0</td>\n",
       "      <td>2.0</td>\n",
       "    </tr>\n",
       "    <tr>\n",
       "      <th>4</th>\n",
       "      <td>1940.0</td>\n",
       "      <td>Baker</td>\n",
       "      <td>39.720205</td>\n",
       "      <td>-104.997499</td>\n",
       "      <td>Entire home/apt</td>\n",
       "      <td>77.0</td>\n",
       "      <td>243.0</td>\n",
       "      <td>1.0</td>\n",
       "    </tr>\n",
       "  </tbody>\n",
       "</table>\n",
       "</div>"
      ],
      "text/plain": [
       "       id    neighbourhood   latitude   longitude        room_type  price  \\\n",
       "0   360.0         Highland  39.766415 -105.002098  Entire home/apt   91.0   \n",
       "1   364.0      Five Points  39.766720 -104.979060  Entire home/apt  179.0   \n",
       "2   590.0  North Park Hill  39.755110 -104.911090     Private room   59.0   \n",
       "3   592.0  North Park Hill  39.754810 -104.911060     Private room   58.0   \n",
       "4  1940.0            Baker  39.720205 -104.997499  Entire home/apt   77.0   \n",
       "\n",
       "   availability_365  calculated_host_listings_count  \n",
       "0             179.0                             2.0  \n",
       "1             358.0                             1.0  \n",
       "2             146.0                             2.0  \n",
       "3             210.0                             2.0  \n",
       "4             243.0                             1.0  "
      ]
     },
     "execution_count": 134,
     "metadata": {},
     "output_type": "execute_result"
    }
   ],
   "source": [
    "# Select only the columns we want for our analysis\n",
    "listings_df = listings_df[[\"id\", \"neighbourhood\", \"latitude\", \"longitude\", \"room_type\", \"price\", \"availability_365\", \"calculated_host_listings_count\"]].copy()\n",
    "listings_df.head()"
   ]
  },
  {
   "cell_type": "code",
   "execution_count": 135,
   "id": "9069b5ae",
   "metadata": {},
   "outputs": [
    {
     "name": "stdout",
     "output_type": "stream",
     "text": [
      "id                                        float64\n",
      "neighbourhood                     string[pyarrow]\n",
      "latitude                                  float64\n",
      "longitude                                 float64\n",
      "room_type                         string[pyarrow]\n",
      "price                                     float64\n",
      "availability_365                          float64\n",
      "calculated_host_listings_count            float64\n",
      "dtype: object\n"
     ]
    }
   ],
   "source": [
    "# Find datatypes for each column\n",
    "print(listings_df.dtypes)"
   ]
  },
  {
   "cell_type": "code",
   "execution_count": 136,
   "id": "fbc7a7d5",
   "metadata": {},
   "outputs": [],
   "source": [
    "# Change datatypes\n",
    "listings_df[\"id\"] = listings_df[\"id\"].astype(int)\n",
    "listings_df[\"availability_365\"] = listings_df[\"availability_365\"].astype(int)\n",
    "listings_df[\"calculated_host_listings_count\"] = listings_df[\"calculated_host_listings_count\"].astype(int)\n",
    "\n",
    "# Rename columns\n",
    "listings_df = listings_df.rename(columns={\n",
    "    \"id\": \"ID\",\n",
    "    \"neighbourhood\": \"Neighborhood\",\n",
    "    \"latitude\": \"Latitude\",\n",
    "    \"longitude\": \"Longitude\",\n",
    "    \"room_type\": \"Listing Type\",\n",
    "    \"price\": \"Price\",\n",
    "    \"availability_365\": \"Available Days per Year\",\n",
    "    \"calculated_host_listings_count\": \"Host Listings Count\"\n",
    "})"
   ]
  },
  {
   "cell_type": "code",
   "execution_count": 137,
   "id": "b2527137",
   "metadata": {},
   "outputs": [
    {
     "name": "stdout",
     "output_type": "stream",
     "text": [
      "ID                                   int64\n",
      "Neighborhood               string[pyarrow]\n",
      "Latitude                           float64\n",
      "Longitude                          float64\n",
      "Listing Type               string[pyarrow]\n",
      "Price                              float64\n",
      "Available Days per Year              int64\n",
      "Host Listings Count                  int64\n",
      "dtype: object\n"
     ]
    }
   ],
   "source": [
    "# Check datatypes were successfully changed\n",
    "print(listings_df.dtypes)"
   ]
  },
  {
   "cell_type": "code",
   "execution_count": 138,
   "id": "33b3521b",
   "metadata": {},
   "outputs": [
    {
     "name": "stdout",
     "output_type": "stream",
     "text": [
      "ID                           0\n",
      "Neighborhood                 0\n",
      "Latitude                     0\n",
      "Longitude                    0\n",
      "Listing Type                 0\n",
      "Price                      573\n",
      "Available Days per Year      0\n",
      "Host Listings Count          0\n",
      "dtype: int64\n"
     ]
    }
   ],
   "source": [
    "# Find out if there are null values in each column\n",
    "print(listings_df.isnull().sum().compute())"
   ]
  },
  {
   "cell_type": "code",
   "execution_count": 139,
   "id": "e874f664",
   "metadata": {},
   "outputs": [],
   "source": [
    "# Remove all rows with null values\n",
    "listings_df = listings_df.dropna()"
   ]
  },
  {
   "cell_type": "code",
   "execution_count": 140,
   "id": "db0bdd69",
   "metadata": {},
   "outputs": [
    {
     "name": "stdout",
     "output_type": "stream",
     "text": [
      "ID                         0\n",
      "Neighborhood               0\n",
      "Latitude                   0\n",
      "Longitude                  0\n",
      "Listing Type               0\n",
      "Price                      0\n",
      "Available Days per Year    0\n",
      "Host Listings Count        0\n",
      "dtype: int64\n"
     ]
    }
   ],
   "source": [
    "# Recheck for null values\n",
    "print(listings_df.isnull().sum().compute())"
   ]
  },
  {
   "cell_type": "code",
   "execution_count": 141,
   "id": "959a13d0",
   "metadata": {},
   "outputs": [
    {
     "name": "stdout",
     "output_type": "stream",
     "text": [
      "          Latitude    Longitude        Price  Available Days per Year\n",
      "count  4578.000000  4578.000000  4578.000000              4578.000000\n",
      "mean     39.742149  -104.975373   162.639144               219.004806\n",
      "std       0.031772     0.061382   239.225490               116.491189\n",
      "min      39.625750  -105.102804    10.000000                 0.000000\n",
      "25%      39.728498  -105.016473    84.000000               116.000000\n",
      "50%      39.748135  -104.984050   117.000000               237.000000\n",
      "75%      39.762350  -104.957370   178.000000               334.000000\n",
      "max      39.847417  -104.673817  9999.000000               365.000000\n"
     ]
    }
   ],
   "source": [
    "# Get statistical information\n",
    "summary_stats = listings_df[[\"Latitude\", \"Longitude\", \"Price\", \"Available Days per Year\"]].describe()\n",
    "print(summary_stats.compute())"
   ]
  },
  {
   "cell_type": "code",
   "execution_count": 142,
   "id": "2ad38f73",
   "metadata": {},
   "outputs": [
    {
     "name": "stdout",
     "output_type": "stream",
     "text": [
      "ID                         77\n",
      "Neighborhood               77\n",
      "Latitude                   77\n",
      "Longitude                  77\n",
      "Listing Type               77\n",
      "Price                      77\n",
      "Available Days per Year    77\n",
      "Host Listings Count        77\n",
      "dtype: int64\n"
     ]
    }
   ],
   "source": [
    "# Find out how many listings have \"Available Days per Year\" as 0\n",
    "print(listings_df.query(\"`Available Days per Year` == 0\").count().compute())"
   ]
  },
  {
   "cell_type": "code",
   "execution_count": 143,
   "id": "a2a90472",
   "metadata": {},
   "outputs": [],
   "source": [
    "# Filter out all rows where \"Available Days per Year\" is 0\n",
    "listings_df = listings_df.query(\"`Available Days per Year` ! = 0\")"
   ]
  },
  {
   "cell_type": "code",
   "execution_count": 144,
   "id": "8e377a7f",
   "metadata": {},
   "outputs": [
    {
     "name": "stdout",
     "output_type": "stream",
     "text": [
      "          Latitude    Longitude        Price  Available Days per Year\n",
      "count  4501.000000  4501.000000  4501.000000              4501.000000\n",
      "mean     39.742191  -104.975155   162.798267               222.751389\n",
      "std       0.031843     0.061594   240.860574               113.875617\n",
      "min      39.625750  -105.102804    10.000000                 1.000000\n",
      "25%      39.728490  -105.016480    84.000000               121.000000\n",
      "50%      39.748120  -104.983920   116.000000               240.000000\n",
      "75%      39.762540  -104.956978   178.000000               335.000000\n",
      "max      39.847417  -104.673817  9999.000000               365.000000\n"
     ]
    }
   ],
   "source": [
    "# Look at statistical information again after filtering out rows\n",
    "summary_stats = listings_df[[\"Latitude\", \"Longitude\", \"Price\", \"Available Days per Year\"]].describe()\n",
    "print(summary_stats.compute())"
   ]
  },
  {
   "cell_type": "code",
   "execution_count": 145,
   "id": "62e6fbb5",
   "metadata": {},
   "outputs": [
    {
     "data": {
      "text/html": [
       "<div>\n",
       "<style scoped>\n",
       "    .dataframe tbody tr th:only-of-type {\n",
       "        vertical-align: middle;\n",
       "    }\n",
       "\n",
       "    .dataframe tbody tr th {\n",
       "        vertical-align: top;\n",
       "    }\n",
       "\n",
       "    .dataframe thead th {\n",
       "        text-align: right;\n",
       "    }\n",
       "</style>\n",
       "<table border=\"1\" class=\"dataframe\">\n",
       "  <thead>\n",
       "    <tr style=\"text-align: right;\">\n",
       "      <th></th>\n",
       "      <th>ID</th>\n",
       "      <th>Neighborhood</th>\n",
       "      <th>Latitude</th>\n",
       "      <th>Longitude</th>\n",
       "      <th>Listing Type</th>\n",
       "      <th>Price</th>\n",
       "      <th>Available Days per Year</th>\n",
       "      <th>Host Listings Count</th>\n",
       "    </tr>\n",
       "  </thead>\n",
       "  <tbody>\n",
       "    <tr>\n",
       "      <th>0</th>\n",
       "      <td>360</td>\n",
       "      <td>Highland</td>\n",
       "      <td>39.766415</td>\n",
       "      <td>-105.002098</td>\n",
       "      <td>Entire home/apt</td>\n",
       "      <td>91.0</td>\n",
       "      <td>179</td>\n",
       "      <td>2</td>\n",
       "    </tr>\n",
       "    <tr>\n",
       "      <th>1</th>\n",
       "      <td>364</td>\n",
       "      <td>Five Points</td>\n",
       "      <td>39.766720</td>\n",
       "      <td>-104.979060</td>\n",
       "      <td>Entire home/apt</td>\n",
       "      <td>179.0</td>\n",
       "      <td>358</td>\n",
       "      <td>1</td>\n",
       "    </tr>\n",
       "    <tr>\n",
       "      <th>2</th>\n",
       "      <td>590</td>\n",
       "      <td>North Park Hill</td>\n",
       "      <td>39.755110</td>\n",
       "      <td>-104.911090</td>\n",
       "      <td>Private room</td>\n",
       "      <td>59.0</td>\n",
       "      <td>146</td>\n",
       "      <td>2</td>\n",
       "    </tr>\n",
       "    <tr>\n",
       "      <th>3</th>\n",
       "      <td>592</td>\n",
       "      <td>North Park Hill</td>\n",
       "      <td>39.754810</td>\n",
       "      <td>-104.911060</td>\n",
       "      <td>Private room</td>\n",
       "      <td>58.0</td>\n",
       "      <td>210</td>\n",
       "      <td>2</td>\n",
       "    </tr>\n",
       "    <tr>\n",
       "      <th>4</th>\n",
       "      <td>1940</td>\n",
       "      <td>Baker</td>\n",
       "      <td>39.720205</td>\n",
       "      <td>-104.997499</td>\n",
       "      <td>Entire home/apt</td>\n",
       "      <td>77.0</td>\n",
       "      <td>243</td>\n",
       "      <td>1</td>\n",
       "    </tr>\n",
       "  </tbody>\n",
       "</table>\n",
       "</div>"
      ],
      "text/plain": [
       "     ID     Neighborhood   Latitude   Longitude     Listing Type  Price  \\\n",
       "0   360         Highland  39.766415 -105.002098  Entire home/apt   91.0   \n",
       "1   364      Five Points  39.766720 -104.979060  Entire home/apt  179.0   \n",
       "2   590  North Park Hill  39.755110 -104.911090     Private room   59.0   \n",
       "3   592  North Park Hill  39.754810 -104.911060     Private room   58.0   \n",
       "4  1940            Baker  39.720205 -104.997499  Entire home/apt   77.0   \n",
       "\n",
       "   Available Days per Year  Host Listings Count  \n",
       "0                      179                    2  \n",
       "1                      358                    1  \n",
       "2                      146                    2  \n",
       "3                      210                    2  \n",
       "4                      243                    1  "
      ]
     },
     "execution_count": 145,
     "metadata": {},
     "output_type": "execute_result"
    }
   ],
   "source": [
    "listings_df_cleaned = listings_df.copy()\n",
    "listings_df_cleaned.head()"
   ]
  },
  {
   "cell_type": "code",
   "execution_count": 146,
   "id": "4d12f19d",
   "metadata": {},
   "outputs": [
    {
     "data": {
      "text/plain": [
       "['/Users/angelinamurdock/Desktop/Classwork/Project-5_Group-3/Resources/cleaned_listings.csv']"
      ]
     },
     "execution_count": 146,
     "metadata": {},
     "output_type": "execute_result"
    }
   ],
   "source": [
    "# Export cleaned data to a new csv\n",
    "listings_df_cleaned.to_csv('Resources/cleaned_listings.csv', index=False, single_file=True)"
   ]
  },
  {
   "cell_type": "code",
   "execution_count": 148,
   "id": "efde92b2",
   "metadata": {},
   "outputs": [],
   "source": [
    "# Convert cleaned_listings.csv into a .json file \n",
    "listings_df = dd.read_csv('Resources/cleaned_listings.csv')\n",
    "\n",
    "# Compute the DataFrame to Pandas (if the dataset fits into memory)\n",
    "listings_pandas_df = listings_df.compute()\n",
    "\n",
    "# Convert to list of dictionaries (this is how the data will be represented in JavaScript)\n",
    "data_as_dict = listings_pandas_df.to_dict(orient='records')\n",
    "\n",
    "# Write the JavaScript data to a .json file\n",
    "with open(\"Resources/listings.json\", \"w\") as json_file:\n",
    "    json.dump(data_as_dict, json_file, indent=4)"
   ]
  }
 ],
 "metadata": {
  "kernelspec": {
   "display_name": "dev",
   "language": "python",
   "name": "python3"
  },
  "language_info": {
   "codemirror_mode": {
    "name": "ipython",
    "version": 3
   },
   "file_extension": ".py",
   "mimetype": "text/x-python",
   "name": "python",
   "nbconvert_exporter": "python",
   "pygments_lexer": "ipython3",
   "version": "3.10.16"
  }
 },
 "nbformat": 4,
 "nbformat_minor": 5
}
